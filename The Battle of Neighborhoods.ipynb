{
 "cells": [
  {
   "cell_type": "markdown",
   "id": "228927a2",
   "metadata": {},
   "source": [
    "## Capstone project: The Battle of Neighborhoods - Week 1 "
   ]
  },
  {
   "cell_type": "markdown",
   "id": "5907d6d8",
   "metadata": {},
   "source": [
    "**Introduction/Business Problem"
   ]
  },
  {
   "cell_type": "markdown",
   "id": "0e9efd92",
   "metadata": {},
   "source": [
    "*The objective of this Capstone project is to analyze and find best possible location in New York City to open an Indian cuisine restaurant with western twist. \n",
    "New York is the largest city in US with a long history of international immigrants that has population of diverse culture, cuisine and magnificent people. New York is home to an array of outstanding Indian restaurants that serve cuisine akin to that found in Indian households or India itself, including amazing regional specialties, takeout tikka masala, and handheld snacks.As with any new business, it is important to analyze the location, neighborhood, and other factors that would lead the new Indian restaurant to great success and profit. \n"
   ]
  },
  {
   "cell_type": "code",
   "execution_count": null,
   "id": "ea9f3d27",
   "metadata": {},
   "outputs": [],
   "source": []
  }
 ],
 "metadata": {
  "kernelspec": {
   "display_name": "Python",
   "language": "python",
   "name": "conda-env-python-py"
  },
  "language_info": {
   "codemirror_mode": {
    "name": "ipython",
    "version": 3
   },
   "file_extension": ".py",
   "mimetype": "text/x-python",
   "name": "python",
   "nbconvert_exporter": "python",
   "pygments_lexer": "ipython3",
   "version": "3.6.13"
  }
 },
 "nbformat": 4,
 "nbformat_minor": 5
}
