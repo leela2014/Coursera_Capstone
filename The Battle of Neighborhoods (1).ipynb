{
 "cells": [
  {
   "cell_type": "markdown",
   "id": "a8641402",
   "metadata": {},
   "source": [
    "## Capstone project: The Battle of Neighborhoods - Week 1 \n",
    "\n",
    "## Table of contents\n",
    "1. Introduction: Business Problem\n",
    "2. Data\n",
    "3. Methodology\n",
    "4. Results and Discussion\n",
    "5. Conclusion"
   ]
  },
  {
   "cell_type": "markdown",
   "id": "1ffa2e6d",
   "metadata": {},
   "source": [
    "## Introduction: Business Problem"
   ]
  },
  {
   "cell_type": "markdown",
   "id": "1f699843",
   "metadata": {},
   "source": [
    "* The objective of this Capstone project is to analyze and find best possible location in New York City to open an Indian cuisine restaurant with western twist. \n",
    "New York is the largest city in US with a long history of international immigrants that has population of diverse culture, cuisine and magnificent people. New York is home to an array of outstanding Indian restaurants that serve cuisine akin to that found in Indian households or India itself, including amazing regional specialties, takeout tikka masala, and handheld snacks.As with any new business, it is important to analyze the location, neighborhood, and other factors that would lead the new Indian restaurant to great success and profit. \n"
   ]
  },
  {
   "cell_type": "markdown",
   "id": "ab8d98c1",
   "metadata": {},
   "source": [
    "## Data\n",
    "* To solve the business problem, following data are required:\n",
    "- data on New York City neighborhoods\n",
    "- boroughs to include boundaries, latitude, longitude, restaurants, and \n",
    "- restaurant ratings and tips\n",
    "\n",
    "New York City data containing the neighborhoods and boroughs, latitudes, and longitudes will be obtained from the data source: https://cf-courses-data.s3.us.cloud-object-storage.appdomain.cloud/IBMDeveloperSkillsNetwork-DS0701EN-SkillsNetwork/labs/newyork_data.json\n",
    "\n",
    "All data related to locations and quality of Indian restaurants will be obtained via the FourSquare API utilized via the Request library in Python."
   ]
  },
  {
   "cell_type": "code",
   "execution_count": null,
   "id": "d89012a1",
   "metadata": {},
   "outputs": [],
   "source": []
  }
 ],
 "metadata": {
  "kernelspec": {
   "display_name": "Python",
   "language": "python",
   "name": "conda-env-python-py"
  },
  "language_info": {
   "codemirror_mode": {
    "name": "ipython",
    "version": 3
   },
   "file_extension": ".py",
   "mimetype": "text/x-python",
   "name": "python",
   "nbconvert_exporter": "python",
   "pygments_lexer": "ipython3",
   "version": "3.6.13"
  }
 },
 "nbformat": 4,
 "nbformat_minor": 5
}
