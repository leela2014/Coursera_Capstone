{
 "cells": [
  {
   "cell_type": "markdown",
   "id": "8356d64d",
   "metadata": {},
   "source": [
    "## Capstone project: The Battle of Neighborhoods - Week 1 \n",
    "\n",
    "## Table of contents\n",
    "1. Introduction: Business Problem\n",
    "2. Data\n",
    "3. Methodology\n",
    "4. Results and Discussion\n",
    "5. Conclusion"
   ]
  },
  {
   "cell_type": "markdown",
   "id": "868f5a6c",
   "metadata": {},
   "source": [
    "## Introduction: Business Problem"
   ]
  },
  {
   "cell_type": "markdown",
   "id": "2c6ced0a",
   "metadata": {},
   "source": [
    " The objective of this Capstone project is to analyze and find best possible location in New York City to open an Indian cuisine restaurant with western twist. \n",
    "New York is the largest city in US with a long history of international immigrants that has population of diverse culture, cuisine and magnificent people. New York is home to an array of outstanding Indian restaurants that serve cuisine akin to that found in Indian households or India itself, including amazing regional specialties, takeout tikka masala, and handheld snacks.As with any new business, it is important to analyze the location, neighborhood, and other factors that would lead the new Indian restaurant to great success and profit. \n"
   ]
  },
  {
   "cell_type": "markdown",
   "id": "6207e487",
   "metadata": {},
   "source": [
    "## Data\n",
    "To solve the business problem, following data are required:\n",
    "- data on New York City neighborhoods\n",
    "- boroughs to include boundaries, latitude, longitude, restaurants \n",
    "- restaurant ratings and tips\n",
    "\n",
    "New York City data containing the neighborhoods and boroughs, latitudes, and longitudes will be obtained from the data source: https://cf-courses-data.s3.us.cloud-object-storage.appdomain.cloud/IBMDeveloperSkillsNetwork-DS0701EN-SkillsNetwork/labs/newyork_data.json\n",
    "\n",
    "All data related to locations and quality of Indian restaurants will be obtained via the FourSquare API utilized via the Request library in Python."
   ]
  },
  {
   "cell_type": "markdown",
   "id": "9565d436",
   "metadata": {},
   "source": [
    "* Foursquare API:\n",
    "This project would use Four-square API as its prime data gathering source as it has a database of millions of places, especially their places API which provides the ability to perform location search, location sharing and details about a business.\n",
    "\n",
    "* Work Flow:\n",
    "Using credentials of Foursquare API features of near-by places of the neighborhoods would be mined. Due to http request limitations the number of places per neighborhood parameter would reasonably be set to 100 and the radius parameter would be set to 500.\n",
    "\n",
    "* Clustering Approach:\n",
    " k-means clustering algorithm\n",
    "\n",
    " Libraries Which are Used to Develope the Project:\n",
    "- Pandas: For creating and manipulating dataframes.\n",
    "\n",
    "- Folium: Python visualization library would be used to visualize the neighborhoods cluster distribution of using interactive leaflet map.\n",
    "\n",
    "- Scikit Learn: For importing k-means clustering.\n",
    "\n",
    "- JSON: Library to handle JSON files.\n",
    "\n",
    "- XML: To separate data from presentation and XML stores data in plain text format.\n",
    "\n",
    "- Geocoder: To retrieve Location Data.\n",
    "\n",
    "- Beautiful Soup and Requests: To scrap and library to handle http requests.\n",
    "\n",
    "- Matplotlib: Python Plotting Module."
   ]
  },
  {
   "cell_type": "code",
   "execution_count": null,
   "id": "566ee895",
   "metadata": {},
   "outputs": [],
   "source": []
  }
 ],
 "metadata": {
  "kernelspec": {
   "display_name": "Python",
   "language": "python",
   "name": "conda-env-python-py"
  },
  "language_info": {
   "codemirror_mode": {
    "name": "ipython",
    "version": 3
   },
   "file_extension": ".py",
   "mimetype": "text/x-python",
   "name": "python",
   "nbconvert_exporter": "python",
   "pygments_lexer": "ipython3",
   "version": "3.6.13"
  }
 },
 "nbformat": 4,
 "nbformat_minor": 5
}
