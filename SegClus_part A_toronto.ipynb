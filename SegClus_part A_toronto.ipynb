{
 "cells": [
  {
   "cell_type": "markdown",
   "id": "5ed706ae",
   "metadata": {},
   "source": [
    "*** Visualization: Tornoto map"
   ]
  },
  {
   "cell_type": "code",
   "execution_count": 10,
   "id": "013a43e8",
   "metadata": {},
   "outputs": [
    {
     "name": "stdout",
     "output_type": "stream",
     "text": [
      "Requirement already satisfied: bs4 in /home/jupyterlab/conda/envs/python/lib/python3.6/site-packages (0.0.1)\n",
      "Requirement already satisfied: beautifulsoup4 in /home/jupyterlab/conda/envs/python/lib/python3.6/site-packages (from bs4) (4.9.3)\n",
      "Requirement already satisfied: soupsieve>1.2; python_version >= \"3.0\" in /home/jupyterlab/conda/envs/python/lib/python3.6/site-packages (from beautifulsoup4->bs4) (2.2.1)\n"
     ]
    }
   ],
   "source": [
    "!pip install bs4\n",
    "import numpy as np \n",
    "import pandas as pd \n",
    "from bs4 import BeautifulSoup\n",
    "import requests"
   ]
  },
  {
   "cell_type": "code",
   "execution_count": 11,
   "id": "40893068",
   "metadata": {},
   "outputs": [],
   "source": [
    "url = \"https://en.wikipedia.org/wiki/List_of_postal_codes_of_Canada:_M\"\n",
    "source = requests.get(url).text\n",
    "can_html  = BeautifulSoup(source, 'xml')\n",
    "can_html = can_html.find('table')"
   ]
  },
  {
   "cell_type": "code",
   "execution_count": 12,
   "id": "de6c3c40",
   "metadata": {},
   "outputs": [
    {
     "name": "stdout",
     "output_type": "stream",
     "text": [
      "180\n"
     ]
    },
    {
     "data": {
      "text/plain": [
       "['M1ANot assigned',\n",
       " 'M2ANot assigned',\n",
       " 'M3ANorth York(Parkwoods)',\n",
       " 'M4ANorth York(Victoria Village)',\n",
       " 'M5ADowntown Toronto(Regent Park / Harbourfront)',\n",
       " 'M6ANorth York(Lawrence Manor / Lawrence Heights)',\n",
       " \"M7AQueen's Park(Ontario Provincial Government)\",\n",
       " 'M8ANot assigned',\n",
       " 'M9AEtobicoke(Islington Avenue)',\n",
       " 'M1BScarborough(Malvern / Rouge)']"
      ]
     },
     "execution_count": 12,
     "metadata": {},
     "output_type": "execute_result"
    }
   ],
   "source": [
    "row_data = []\n",
    "for tr_cell in can_html.find_all('tr'):\n",
    "    for td_cell in tr_cell.find_all('td'):\n",
    "        row_data.append(td_cell.text.strip())\n",
    "        #print(td_cell.text.strip())\n",
    "print(len(row_data))\n",
    "row_data[:10]"
   ]
  },
  {
   "cell_type": "code",
   "execution_count": 13,
   "id": "269282b8",
   "metadata": {},
   "outputs": [
    {
     "name": "stdout",
     "output_type": "stream",
     "text": [
      "['M1A', 'M2A', 'M3A', 'M4A', 'M5A']\n",
      "['Not assigned', 'Not assigned', 'North York(Parkwoods)', 'North York(Victoria Village)', 'Downtown Toronto(Regent Park / Harbourfront)']\n"
     ]
    }
   ],
   "source": [
    "#extract data into a list\n",
    "borough  = [row_data[i][3:] for i in range(len(row_data))]\n",
    "postalCode = [row_data[i][:3] for i in range(len(row_data))]\n",
    "print(postalCode[:5])\n",
    "print(borough[:5])"
   ]
  },
  {
   "cell_type": "code",
   "execution_count": 14,
   "id": "2a2409f9",
   "metadata": {},
   "outputs": [
    {
     "data": {
      "text/html": [
       "<div>\n",
       "<style scoped>\n",
       "    .dataframe tbody tr th:only-of-type {\n",
       "        vertical-align: middle;\n",
       "    }\n",
       "\n",
       "    .dataframe tbody tr th {\n",
       "        vertical-align: top;\n",
       "    }\n",
       "\n",
       "    .dataframe thead th {\n",
       "        text-align: right;\n",
       "    }\n",
       "</style>\n",
       "<table border=\"1\" class=\"dataframe\">\n",
       "  <thead>\n",
       "    <tr style=\"text-align: right;\">\n",
       "      <th></th>\n",
       "      <th>Postalcode</th>\n",
       "      <th>temp</th>\n",
       "    </tr>\n",
       "  </thead>\n",
       "  <tbody>\n",
       "    <tr>\n",
       "      <th>0</th>\n",
       "      <td>M1A</td>\n",
       "      <td>Not assigned</td>\n",
       "    </tr>\n",
       "    <tr>\n",
       "      <th>1</th>\n",
       "      <td>M2A</td>\n",
       "      <td>Not assigned</td>\n",
       "    </tr>\n",
       "    <tr>\n",
       "      <th>2</th>\n",
       "      <td>M3A</td>\n",
       "      <td>North York(Parkwoods)</td>\n",
       "    </tr>\n",
       "    <tr>\n",
       "      <th>3</th>\n",
       "      <td>M4A</td>\n",
       "      <td>North York(Victoria Village)</td>\n",
       "    </tr>\n",
       "    <tr>\n",
       "      <th>4</th>\n",
       "      <td>M5A</td>\n",
       "      <td>Downtown Toronto(Regent Park / Harbourfront)</td>\n",
       "    </tr>\n",
       "  </tbody>\n",
       "</table>\n",
       "</div>"
      ],
      "text/plain": [
       "  Postalcode                                          temp\n",
       "0        M1A                                  Not assigned\n",
       "1        M2A                                  Not assigned\n",
       "2        M3A                         North York(Parkwoods)\n",
       "3        M4A                  North York(Victoria Village)\n",
       "4        M5A  Downtown Toronto(Regent Park / Harbourfront)"
      ]
     },
     "execution_count": 14,
     "metadata": {},
     "output_type": "execute_result"
    }
   ],
   "source": [
    "# make df \n",
    "can_df = pd.DataFrame()\n",
    "can_df['Postalcode'] = postalCode\n",
    "can_df['temp'] = borough\n",
    "can_df.head()"
   ]
  },
  {
   "cell_type": "code",
   "execution_count": 15,
   "id": "8819cdac",
   "metadata": {},
   "outputs": [
    {
     "data": {
      "text/html": [
       "<div>\n",
       "<style scoped>\n",
       "    .dataframe tbody tr th:only-of-type {\n",
       "        vertical-align: middle;\n",
       "    }\n",
       "\n",
       "    .dataframe tbody tr th {\n",
       "        vertical-align: top;\n",
       "    }\n",
       "\n",
       "    .dataframe thead th {\n",
       "        text-align: right;\n",
       "    }\n",
       "</style>\n",
       "<table border=\"1\" class=\"dataframe\">\n",
       "  <thead>\n",
       "    <tr style=\"text-align: right;\">\n",
       "      <th></th>\n",
       "      <th>Postalcode</th>\n",
       "      <th>Borough</th>\n",
       "      <th>Neighborhood</th>\n",
       "    </tr>\n",
       "  </thead>\n",
       "  <tbody>\n",
       "    <tr>\n",
       "      <th>2</th>\n",
       "      <td>M3A</td>\n",
       "      <td>North York</td>\n",
       "      <td>Parkwoods</td>\n",
       "    </tr>\n",
       "    <tr>\n",
       "      <th>3</th>\n",
       "      <td>M4A</td>\n",
       "      <td>North York</td>\n",
       "      <td>Victoria Village</td>\n",
       "    </tr>\n",
       "    <tr>\n",
       "      <th>4</th>\n",
       "      <td>M5A</td>\n",
       "      <td>Downtown Toronto</td>\n",
       "      <td>Regent Park , Harbourfront</td>\n",
       "    </tr>\n",
       "    <tr>\n",
       "      <th>5</th>\n",
       "      <td>M6A</td>\n",
       "      <td>North York</td>\n",
       "      <td>Lawrence Manor , Lawrence Heights</td>\n",
       "    </tr>\n",
       "    <tr>\n",
       "      <th>6</th>\n",
       "      <td>M7A</td>\n",
       "      <td>Queen's Park</td>\n",
       "      <td>Ontario Provincial Government</td>\n",
       "    </tr>\n",
       "  </tbody>\n",
       "</table>\n",
       "</div>"
      ],
      "text/plain": [
       "  Postalcode           Borough                       Neighborhood\n",
       "2        M3A        North York                          Parkwoods\n",
       "3        M4A        North York                   Victoria Village\n",
       "4        M5A  Downtown Toronto         Regent Park , Harbourfront\n",
       "5        M6A        North York  Lawrence Manor , Lawrence Heights\n",
       "6        M7A      Queen's Park      Ontario Provincial Government"
      ]
     },
     "execution_count": 15,
     "metadata": {},
     "output_type": "execute_result"
    }
   ],
   "source": [
    "can_df = can_df[can_df.temp != \"Not assigned\"] # delect df row which are 'Not assigned'\n",
    "can_df[['Borough','Neighborhood','na']] = can_df.temp.str.split(\"(\",expand = True,) # split col:temp\n",
    "can_df['Neighborhood'] = can_df['Neighborhood'].str.replace(')','') \n",
    "can_df['Neighborhood'] = can_df['Neighborhood'].str.replace('/',',')\n",
    "can_df = can_df.drop(['temp','na'],axis=1) # drop columns\n",
    "can_df.head()"
   ]
  },
  {
   "cell_type": "code",
   "execution_count": null,
   "id": "bff03dfc",
   "metadata": {},
   "outputs": [],
   "source": []
  }
 ],
 "metadata": {
  "kernelspec": {
   "display_name": "Python",
   "language": "python",
   "name": "conda-env-python-py"
  },
  "language_info": {
   "codemirror_mode": {
    "name": "ipython",
    "version": 3
   },
   "file_extension": ".py",
   "mimetype": "text/x-python",
   "name": "python",
   "nbconvert_exporter": "python",
   "pygments_lexer": "ipython3",
   "version": "3.6.13"
  }
 },
 "nbformat": 4,
 "nbformat_minor": 5
}
